{
 "cells": [
  {
   "cell_type": "markdown",
   "id": "fd859646",
   "metadata": {},
   "source": [
    "# Preprocessing Data"
   ]
  },
  {
   "cell_type": "markdown",
   "id": "9facfe41",
   "metadata": {},
   "source": [
    "- The `sklearn` library contains a lot of efficient tools for machine learning and statistical modeling including classification, regression, clustering and dimensionality reduction\n",
    "- Keras is a high-level, deep learning API developed by Google for implementing neural networks\n",
    "- Pandas is a Python library used for working with data sets. It has functions for analyzing, cleaning, exploring, and manipulating data.\n",
    "- XGBoost is a popular and efficient open-source implementation of the gradient boosted trees algorithm\n",
    "- `pyvi`: Python Vietnamese Toolkit.\n",
    "- `tqdm`: used to create a smart progress bar for the loops\n",
    "- `numpy`: a library for the Python programming language, adding support for large, multi-dimensional arrays and matrices, along with a large collection of high-level mathematical functions to operate on these arrays"
   ]
  },
  {
   "cell_type": "markdown",
   "id": "d4080d12",
   "metadata": {},
   "source": [
    "# Dataset Preparation"
   ]
  },
  {
   "cell_type": "code",
   "execution_count": 7,
   "id": "85182039",
   "metadata": {},
   "outputs": [],
   "source": [
    "from tqdm import tqdm\n",
    "import numpy as np\n",
    "import gensim\n",
    "from pyvi import ViTokenizer, ViPosTagger\n",
    "import pickle"
   ]
  },
  {
   "cell_type": "markdown",
   "id": "f7c74c91",
   "metadata": {},
   "source": [
    "## Diference between os.getcwd() and os.path.dirname(__file__)\n",
    "There is a difference, though you wouldn't be able to tell from a single script.\n",
    "\n",
    "`__file__` is the full filename of a loaded module or script, so getting the parent directory of it with `os.path.dirname(__file__)` gets you the directory that script is in.\n",
    "\n",
    "Note: on Linux (and similar OSes), such a filename can be a symbolic link to the actual file which may reside somewhere else. You can use `os.path.realpath()` to resolve through any such links, if needed, although you can typically use the symlink equivalently. On Windows these are less common, but similarly, you can resolve symbolic links through `realpath()`.\n",
    "\n",
    "`os.getcwd()` gets you the current working directory. If you start a script from the directory the script is in (which is common), the working directory will be the same as the result from the call from `os.path.dirname(__file__)`.\n",
    "\n",
    "But if you start the script from another directory (i.e. python `d:\\some\\path\\script.py`), or if you change the working directory during the script (e.g. with `os.chdir()`), the current working directory has changed, but the directory part of the script filename has not.\n",
    "\n",
    "So, it depends on what you need:\n",
    "- Need the directory your script file is in? Use `os.path.dirname(__file__)`\n",
    "- Need the directory your script is currently running in? use `os.getcwd()`\n",
    "\n",
    "You'll see / in some results and \\ in others. Sadly, MS Windows uses \\ to separate parts of a path (e.g. `C:\\Program Files\\App\\`), while pretty much all other operating systems use / (e.g. `/home/user/script.py`)\n",
    "\n",
    "Python will often convert those automatically, so you can use paths like `C:/Program Files/App` in Python on Windows as well, but it tends to be a good idea to be safe and use `os.path.sep`.\n",
    "\n",
    "Note: if you're on Python 3, you may be better off just using pathlib's Path instead of os.path. It automatically resolves symbolic links (although you can still resolve to the link if you prefer) and has other nice conveniences as well.\n",
    "\n"
   ]
  },
  {
   "cell_type": "code",
   "execution_count": 8,
   "id": "9b046b3f",
   "metadata": {},
   "outputs": [],
   "source": [
    "import os \n",
    "dir_path = os.path.dirname(os.path.realpath(os.getcwd()))\n",
    "dir_path = os.path.join(dir_path, 'project 2')\n",
    "# '/Users/macos/Desktop/Github/NLP/Text Classifier'\n",
    "# Load data from dataset folder\n",
    "# VNTC-master/Data/10Topics/Ver1.1/Train_Full\n",
    "# VNTC-master/Data/10Topics/Ver1.1/Test_Full\n",
    "def get_data(folder_path):\n",
    "    X = []\n",
    "    y = []\n",
    "    dirs = os.listdir(folder_path)\n",
    "    for path in dirs:\n",
    "        file_paths = os.listdir(os.path.join(folder_path, path))\n",
    "        for file_path in tqdm(file_paths):\n",
    "            with open(os.path.join(folder_path, path, file_path), 'r', encoding=\"utf-16\") as f:\n",
    "                lines = f.readlines()\n",
    "                lines = ' '.join(lines)\n",
    "                lines = gensim.utils.simple_preprocess(lines)\n",
    "                lines = ' '.join(lines)\n",
    "                lines = ViTokenizer.tokenize(lines)\n",
    "#                 sentence = ' '.join(words)\n",
    "#                 print(lines)\n",
    "                X.append(lines)\n",
    "                y.append(path)\n",
    "#             break\n",
    "#         break\n",
    "    return X, y"
   ]
  },
  {
   "cell_type": "markdown",
   "id": "cbf12cc0",
   "metadata": {},
   "source": [
    "> Chỉ chạy block code này một lần đầu để lưu đọc dữ liệu. Sau đó lưu vào file .pkl thì các lần sau chỉ việc lấy ra từ file đó"
   ]
  },
  {
   "cell_type": "code",
   "execution_count": 9,
   "id": "86c19d44",
   "metadata": {
    "scrolled": true
   },
   "outputs": [
    {
     "name": "stderr",
     "output_type": "stream",
     "text": [
      "100%|██████████████████████████████████████████████████████████████████████████████| 5219/5219 [01:57<00:00, 44.32it/s]\n",
      "100%|██████████████████████████████████████████████████████████████████████████████| 3159/3159 [01:23<00:00, 38.02it/s]\n",
      "100%|██████████████████████████████████████████████████████████████████████████████| 1820/1820 [00:44<00:00, 40.69it/s]\n",
      "100%|██████████████████████████████████████████████████████████████████████████████| 2552/2552 [00:57<00:00, 44.53it/s]\n",
      "100%|██████████████████████████████████████████████████████████████████████████████| 3868/3868 [01:19<00:00, 48.95it/s]\n",
      "100%|██████████████████████████████████████████████████████████████████████████████| 3384/3384 [01:13<00:00, 45.84it/s]\n",
      "100%|██████████████████████████████████████████████████████████████████████████████| 2898/2898 [01:03<00:00, 45.46it/s]\n",
      "100%|██████████████████████████████████████████████████████████████████████████████| 5298/5298 [02:11<00:00, 40.28it/s]\n",
      "100%|██████████████████████████████████████████████████████████████████████████████| 3080/3080 [01:03<00:00, 48.58it/s]\n",
      "100%|██████████████████████████████████████████████████████████████████████████████| 2481/2481 [00:40<00:00, 60.80it/s]\n",
      "100%|██████████████████████████████████████████████████████████████████████████████| 7567/7567 [02:13<00:00, 56.64it/s]\n",
      "100%|██████████████████████████████████████████████████████████████████████████████| 2036/2036 [00:47<00:00, 43.25it/s]\n",
      "100%|██████████████████████████████████████████████████████████████████████████████| 2096/2096 [00:41<00:00, 50.18it/s]\n",
      "100%|██████████████████████████████████████████████████████████████████████████████| 5276/5276 [01:45<00:00, 50.11it/s]\n",
      "100%|██████████████████████████████████████████████████████████████████████████████| 3788/3788 [01:07<00:00, 56.53it/s]\n",
      "100%|██████████████████████████████████████████████████████████████████████████████| 5417/5417 [01:42<00:00, 52.65it/s]\n",
      "100%|██████████████████████████████████████████████████████████████████████████████| 6716/6716 [01:56<00:00, 57.58it/s]\n",
      "100%|██████████████████████████████████████████████████████████████████████████████| 6667/6667 [02:23<00:00, 46.46it/s]\n",
      "100%|██████████████████████████████████████████████████████████████████████████████| 6250/6250 [02:12<00:00, 47.12it/s]\n",
      "100%|██████████████████████████████████████████████████████████████████████████████| 4560/4560 [01:22<00:00, 55.24it/s]\n"
     ]
    }
   ],
   "source": [
    "# train_path = os.path.join(dir_path, 'VNTC-master/Data/10Topics/Ver1.1/Train_Full')\n",
    "# X_data, y_data = get_data(train_path)\n",
    "# test_path = os.path.join(dir_path, 'VNTC-master/Data/10Topics/Ver1.1/Test_Full')\n",
    "# X_test, y_test = get_data(test_path)\n",
    "# pickle.dump(X_data, open('data/X_data.pkl', 'wb'))\n",
    "# pickle.dump(y_data, open('data/y_data.pkl', 'wb'))\n",
    "\n",
    "# pickle.dump(X_test, open('data/X_test.pkl', 'wb'))\n",
    "# pickle.dump(y_test, open('data/y_test.pkl', 'wb'))"
   ]
  }
 ],
 "metadata": {
  "kernelspec": {
   "display_name": "Python 3 (ipykernel)",
   "language": "python",
   "name": "python3"
  },
  "language_info": {
   "codemirror_mode": {
    "name": "ipython",
    "version": 3
   },
   "file_extension": ".py",
   "mimetype": "text/x-python",
   "name": "python",
   "nbconvert_exporter": "python",
   "pygments_lexer": "ipython3",
   "version": "3.9.13"
  }
 },
 "nbformat": 4,
 "nbformat_minor": 5
}
