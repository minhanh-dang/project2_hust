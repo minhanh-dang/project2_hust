{
 "cells": [
  {
   "cell_type": "code",
   "execution_count": null,
   "id": "091e5863",
   "metadata": {},
   "outputs": [],
   "source": [
    "%run ./Feature_Engineering.ipynb"
   ]
  },
  {
   "cell_type": "markdown",
   "id": "17dfc902",
   "metadata": {},
   "source": [
    "# Với BoW"
   ]
  },
  {
   "cell_type": "code",
   "execution_count": null,
   "id": "765b85ef",
   "metadata": {},
   "outputs": [],
   "source": [
    "train_model(svm.SVC(), X_data_count, y_data, X_test_count, y_test, is_neuralnet=False)"
   ]
  },
  {
   "cell_type": "markdown",
   "id": "e1985305",
   "metadata": {},
   "source": [
    "# Với TF- IDF"
   ]
  },
  {
   "cell_type": "markdown",
   "id": "7f69de41",
   "metadata": {},
   "source": [
    "a. Word Level"
   ]
  },
  {
   "cell_type": "code",
   "execution_count": null,
   "id": "c12b80ec",
   "metadata": {},
   "outputs": [],
   "source": [
    "train_model(svm.SVC(), X_data_tfidf, y_data, X_test_tfidf, y_test, is_neuralnet=False)"
   ]
  },
  {
   "cell_type": "markdown",
   "id": "c51e460a",
   "metadata": {},
   "source": [
    "b. N-gram Level"
   ]
  },
  {
   "cell_type": "code",
   "execution_count": null,
   "id": "43c1032f",
   "metadata": {},
   "outputs": [],
   "source": [
    "train_model(svm.SVC(), X_data_tfidf, y_data, X_test_tfidf, y_test, is_neuralnet=False)"
   ]
  },
  {
   "cell_type": "markdown",
   "id": "9c44a0e1",
   "metadata": {},
   "source": [
    "## Với TF-IDF kết hợp SVD"
   ]
  },
  {
   "cell_type": "markdown",
   "id": "752a3e5d",
   "metadata": {},
   "source": [
    "a. Word Level"
   ]
  },
  {
   "cell_type": "code",
   "execution_count": null,
   "id": "beaffa76",
   "metadata": {},
   "outputs": [],
   "source": [
    "train_model(svm.SVC(), X_data_tfidf_svd, y_data, X_test_tfidf_svd, y_test, is_neuralnet=False)"
   ]
  },
  {
   "cell_type": "markdown",
   "id": "3805e50f",
   "metadata": {},
   "source": [
    "b. N-gram Level"
   ]
  },
  {
   "cell_type": "code",
   "execution_count": null,
   "id": "5091258c",
   "metadata": {},
   "outputs": [],
   "source": [
    "train_model(svm.SVC(), X_data_tfidf_ngram_svd, y_data, X_test_tfidf_ngram_svd, y_test, is_neuralnet=False)"
   ]
  },
  {
   "cell_type": "code",
   "execution_count": null,
   "id": "1ecd94e7",
   "metadata": {},
   "outputs": [],
   "source": []
  }
 ],
 "metadata": {
  "kernelspec": {
   "display_name": "Python 3 (ipykernel)",
   "language": "python",
   "name": "python3"
  },
  "language_info": {
   "codemirror_mode": {
    "name": "ipython",
    "version": 3
   },
   "file_extension": ".py",
   "mimetype": "text/x-python",
   "name": "python",
   "nbconvert_exporter": "python",
   "pygments_lexer": "ipython3",
   "version": "3.9.13"
  }
 },
 "nbformat": 4,
 "nbformat_minor": 5
}
